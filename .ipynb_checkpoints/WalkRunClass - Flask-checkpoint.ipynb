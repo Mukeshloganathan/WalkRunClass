{
 "cells": [
  {
   "cell_type": "code",
   "execution_count": 2,
   "id": "06e4b821",
   "metadata": {},
   "outputs": [
    {
     "ename": "EOFError",
     "evalue": "Ran out of input",
     "output_type": "error",
     "traceback": [
      "\u001b[1;31m---------------------------------------------------------------------------\u001b[0m",
      "\u001b[1;31mEOFError\u001b[0m                                  Traceback (most recent call last)",
      "Input \u001b[1;32mIn [2]\u001b[0m, in \u001b[0;36m<cell line: 9>\u001b[1;34m()\u001b[0m\n\u001b[0;32m      5\u001b[0m \u001b[38;5;28;01mfrom\u001b[39;00m \u001b[38;5;21;01mtensorflow\u001b[39;00m\u001b[38;5;21;01m.\u001b[39;00m\u001b[38;5;21;01mkeras\u001b[39;00m\u001b[38;5;21;01m.\u001b[39;00m\u001b[38;5;21;01mmodels\u001b[39;00m \u001b[38;5;28;01mimport\u001b[39;00m load_model\n\u001b[0;32m      7\u001b[0m app \u001b[38;5;241m=\u001b[39m Flask(\u001b[38;5;18m__name__\u001b[39m)\n\u001b[1;32m----> 9\u001b[0m model \u001b[38;5;241m=\u001b[39m \u001b[43mpickle\u001b[49m\u001b[38;5;241;43m.\u001b[39;49m\u001b[43mload\u001b[49m\u001b[43m(\u001b[49m\u001b[38;5;28;43mopen\u001b[39;49m\u001b[43m(\u001b[49m\u001b[38;5;124;43m'\u001b[39;49m\u001b[38;5;124;43mwalkrunclass.pkl\u001b[39;49m\u001b[38;5;124;43m'\u001b[39;49m\u001b[43m,\u001b[49m\u001b[43m \u001b[49m\u001b[38;5;124;43m'\u001b[39;49m\u001b[38;5;124;43mrb\u001b[39;49m\u001b[38;5;124;43m'\u001b[39;49m\u001b[43m)\u001b[49m\u001b[43m)\u001b[49m\n\u001b[0;32m     10\u001b[0m \u001b[38;5;66;03m# BASE_DIR = os.path.dirname(os.path.abspath('walkrunclass.h5'))\u001b[39;00m\n\u001b[0;32m     11\u001b[0m \u001b[38;5;66;03m# model = load_model(os.path.join(BASE_DIR ,'walkrunclass.h5'))\u001b[39;00m\n\u001b[0;32m     13\u001b[0m \u001b[38;5;129m@app\u001b[39m\u001b[38;5;241m.\u001b[39mroute(\u001b[38;5;124m'\u001b[39m\u001b[38;5;124m/\u001b[39m\u001b[38;5;124m'\u001b[39m, methods \u001b[38;5;241m=\u001b[39m [\u001b[38;5;124m'\u001b[39m\u001b[38;5;124mGET\u001b[39m\u001b[38;5;124m'\u001b[39m])\n\u001b[0;32m     14\u001b[0m \u001b[38;5;28;01mdef\u001b[39;00m \u001b[38;5;21mhome\u001b[39m():\n",
      "\u001b[1;31mEOFError\u001b[0m: Ran out of input"
     ]
    }
   ],
   "source": [
    "from flask import Flask, render_template, request\n",
    "import numpy as np\n",
    "import pickle, sklearn\n",
    "import os\n",
    "from tensorflow.keras.models import load_model\n",
    "\n",
    "app = Flask(__name__)\n",
    "\n",
    "model = pickle.load(open('walkrunclass.pkl', 'rb'))\n",
    "# BASE_DIR = os.path.dirname(os.path.abspath('walkrunclass.h5'))\n",
    "# model = load_model(os.path.join(BASE_DIR ,'walkrunclass.h5'))\n",
    "\n",
    "@app.route('/', methods = ['GET'])\n",
    "def home():\n",
    "    return render_template('index.html')\n",
    "\n",
    "# Creating a new sub directory. type /predict after the home directory \n",
    "@app.route('/predict', methods = ['POST'])\n",
    "def predict():\n",
    "    if request.method=='POST':\n",
    "        print('Flask Started')\n",
    "        \n",
    "        acceleration_x = request.form['acceleration_x']\n",
    "        acceleration_y = request.form['acceleration_y']\n",
    "        acceleration_z = request.form['acceleration_z']\n",
    "        gyro_x = request.form['gyro_x']\n",
    "        gyro_y = request.form['gyro_y']\n",
    "        gyro_z = request.form['gyro_z']\n",
    "\n",
    "            \n",
    "        test_data = [acceleration_x, acceleration_y, acceleration_z, gyro_x, gyro_y, gyro_z]\n",
    "        print(test_data)\n",
    "        output = model.predict([test_data])\n",
    "        \n",
    "        if output == 0:\n",
    "            op = 'The person is Walking'\n",
    "        else:\n",
    "            op = 'The person is Running'\n",
    "        \n",
    "        outputline = op\n",
    "        print(outputline)\n",
    "        return render_template('index.html', Prediction = outputline)\n",
    "    else:\n",
    "        return render_template('index.html')\n",
    "\n",
    "if __name__ == '__main__':\n",
    "    app.run()"
   ]
  },
  {
   "cell_type": "code",
   "execution_count": null,
   "id": "4e433dfa",
   "metadata": {},
   "outputs": [],
   "source": []
  }
 ],
 "metadata": {
  "kernelspec": {
   "display_name": "Python 3 (ipykernel)",
   "language": "python",
   "name": "python3"
  },
  "language_info": {
   "codemirror_mode": {
    "name": "ipython",
    "version": 3
   },
   "file_extension": ".py",
   "mimetype": "text/x-python",
   "name": "python",
   "nbconvert_exporter": "python",
   "pygments_lexer": "ipython3",
   "version": "3.9.12"
  }
 },
 "nbformat": 4,
 "nbformat_minor": 5
}
